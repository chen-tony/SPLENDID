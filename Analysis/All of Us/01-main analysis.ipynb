{
 "cells": [
  {
   "cell_type": "code",
   "execution_count": null,
   "id": "e3e579c2",
   "metadata": {},
   "outputs": [],
   "source": [
    "import os \n",
    "\n",
    "bucket = os.getenv(\"WORKSPACE_BUCKET\")\n",
    "bucket\n",
    "\n",
    "!echo $GOOGLE_PROJECT\n",
    "\n",
    "USER_NAME = os.getenv('OWNER_EMAIL').split('@')[0].replace('.','-')\n",
    "%env USER_NAME={USER_NAME}"
   ]
  },
  {
   "cell_type": "markdown",
   "id": "66b1a5b5",
   "metadata": {},
   "source": [
    "# DSUB"
   ]
  },
  {
   "cell_type": "code",
   "execution_count": null,
   "id": "6f2a3d77",
   "metadata": {},
   "outputs": [],
   "source": [
    "!pip3 install --upgrade dsub"
   ]
  },
  {
   "cell_type": "code",
   "execution_count": null,
   "id": "363067d6",
   "metadata": {},
   "outputs": [],
   "source": [
    "%%writefile ~/aou_dsub.bash\n",
    "#!/bin/bash\n",
    "function aou_dsub () {\n",
    "\n",
    "  # Get a shorter username to leave more characters for the job name.\n",
    "  local DSUB_USER_NAME=\"$(echo \"${OWNER_EMAIL}\" | cut -d@ -f1)\"\n",
    "\n",
    "  # For AoU RWB projects network name is \"network\".\n",
    "  local AOU_NETWORK=network\n",
    "  local AOU_SUBNETWORK=subnetwork\n",
    "\n",
    "  dsub \\\n",
    "      --provider google-cls-v2 \\\n",
    "      --user-project \"${GOOGLE_PROJECT}\"\\\n",
    "      --project \"${GOOGLE_PROJECT}\"\\\n",
    "      --image 'marketplace.gcr.io/google/ubuntu1804:latest' \\\n",
    "      --network \"${AOU_NETWORK}\" \\\n",
    "      --subnetwork \"${AOU_SUBNETWORK}\" \\\n",
    "      --service-account \"$(gcloud config get-value account)\" \\\n",
    "      --user \"${DSUB_USER_NAME}\" \\\n",
    "      --regions us-central1 \\\n",
    "      --logging \"${WORKSPACE_BUCKET}/dsub/logs/{job-name}/{user-id}/$(date +'%Y%m%d/%H%M%S')/{job-id}-{task-id}-{task-attempt}.log\" \\\n",
    "      \"$@\"\n",
    "}"
   ]
  },
  {
   "cell_type": "code",
   "execution_count": null,
   "id": "6b267a0e",
   "metadata": {},
   "outputs": [],
   "source": [
    "%%bash\n",
    "echo source ~/aou_dsub.bash >> ~/.bashrc"
   ]
  },
  {
   "cell_type": "markdown",
   "id": "1746b2d7",
   "metadata": {},
   "source": [
    "# Create bigsnpr"
   ]
  },
  {
   "cell_type": "code",
   "execution_count": null,
   "id": "90f7aaee",
   "metadata": {},
   "outputs": [],
   "source": [
    "%%writefile Continuous/microarray_bigsnpr.R\n",
    "#!/usr/bin/env Rscript\n",
    "\n",
    "# BIM: gs://fc-aou-datasets-controlled/v7/microarray/plink/arrays.bim\n",
    "# FAM: gs://fc-aou-datasets-controlled/v7/microarray/plink/arrays.fam\n",
    "# BED: gs://fc-aou-datasets-controlled/v7/microarray/plink/arrays.bed\n",
    "\n",
    "# MAP: Analysis/aou_ukb_map.txt\n",
    "# ID: Continuous/continuous_ids.txt\n",
    "\n",
    "# OUT_RDS: ${WORKSPACE_BUCKET}/data/Analysis/arrays.rds\n",
    "# OUT_BK: ${WORKSPACE_BUCKET}/data/Analysis/arrays.bk\n",
    "\n",
    "Sys.getenv()\n",
    "\n",
    "library(data.table)\n",
    "library(dplyr)\n",
    "library(bigsnpr)\n",
    "\n",
    "# get index of common SNPs\n",
    "print('SNPs')\n",
    "full_bim = fread(Sys.getenv('BIM'))\n",
    "common_snps = fread(Sys.getenv('MAP')) %>% pull(aou_code)\n",
    "snp_keep = which(full_bim$V2 %in% common_snps)\n",
    "\n",
    "cat('full bim:', nrow(full_bim), '\\n')\n",
    "cat('common SNPs:', length(common_snps), '\\n')\n",
    "cat('snp keep:', length(snp_keep), '\\n')\n",
    "\n",
    "rm(common_snps, full_bim); gc()\n",
    "\n",
    "# get index of phenotype individuals\n",
    "continuous_ids = fread(Sys.getenv('ID'))\n",
    "full_fam = fread(Sys.getenv('FAM'))\n",
    "id_keep = which(full_fam$V1 %in% continuous_ids$V1 & full_fam$V2 %in% continuous_ids$V2)\n",
    "\n",
    "cat('full fam:', nrow(full_fam), '\\n')\n",
    "cat('continuous ids:', nrow(continuous_ids), '\\n')\n",
    "cat('id keep:', length(id_keep), '\\n')\n",
    "\n",
    "rm(continuous_ids, full_fam); gc()\n",
    "\n",
    "# convert to bigsnpr format\n",
    "print(\"start converting\")\n",
    "backing_name = function(filename) gsub('.bk', '', filename)\n",
    "\n",
    "bigsnpr_name = snp_readBed2(\n",
    "    bedfile=Sys.getenv('BED'),\n",
    "    backingfile = backing_name(Sys.getenv('OUT_BK')),\n",
    "    ind.row = id_keep,\n",
    "    ind.col = snp_keep,\n",
    "    ncores = 1\n",
    ")\n",
    "print(bigsnpr_name)\n",
    "\n",
    "print(\"done converting\")\n",
    "\n",
    "print('OUT_RDS')\n",
    "plink = try(snp_attach(Sys.getenv('OUT_RDS')))\n",
    "if (!('try-error' %in% class(plink))) {\n",
    "    print(dim(plink$genotypes))\n",
    "} else {\n",
    "    print('nope')\n",
    "}\n",
    "\n",
    "print('bigsnpr_name')\n",
    "plink = try(snp_attach(bigsnpr_name))\n",
    "if (!('try-error' %in% class(plink))) {\n",
    "    print(dim(plink$genotypes)) \n",
    "} else {\n",
    "    print('nope')\n",
    "}"
   ]
  },
  {
   "cell_type": "code",
   "execution_count": null,
   "id": "ece77a99",
   "metadata": {},
   "outputs": [],
   "source": [
    "%%bash --out microarray_bigsnpr_chr\n",
    "\n",
    "# https://isb-cancer-genomics-cloud.readthedocs.io/en/latest/sections/QueryOfTheMonthClub.html#november-2017\n",
    "\n",
    "source ~/aou_dsub.bash # This file was created via notebook 01_dsub_setup.ipynb.\n",
    "\n",
    "docker_image='tacantong/polygenicriskscores:v1'\n",
    "\n",
    "aou_dsub \\\n",
    "  --image \"${docker_image}\" \\\n",
    "  --disk-size 512 \\\n",
    "  --boot-disk-size 100 \\\n",
    "  --min-ram 50 \\\n",
    "  --timeout \"8h\" \\\n",
    "  --logging \"${WORKSPACE_BUCKET}/data/logging\" \\\n",
    "  --input BED=\"gs://fc-aou-datasets-controlled/v7/microarray/plink/arrays.bed\" \\\n",
    "  --input BIM=\"gs://fc-aou-datasets-controlled/v7/microarray/plink/arrays.bim\" \\\n",
    "  --input FAM=\"gs://fc-aou-datasets-controlled/v7/microarray/plink/arrays.fam\" \\\n",
    "  --input MAP=\"${WORKSPACE_BUCKET}/data/Analysis/aou_ukb_map.txt\" \\\n",
    "  --input ID=\"${WORKSPACE_BUCKET}/data/Analysis/unrelated_wgs_ids.txt\" \\\n",
    "  --output OUT_BK=\"${WORKSPACE_BUCKET}/data/Analysis/arrays.bk\" \\\n",
    "  --output OUT_RDS=\"${WORKSPACE_BUCKET}/data/Analysis/arrays.rds\" \\\n",
    "  --script Continuous/microarray_bigsnpr.R"
   ]
  },
  {
   "cell_type": "markdown",
   "id": "ec94ed0b",
   "metadata": {},
   "source": [
    "# GWAS"
   ]
  },
  {
   "cell_type": "markdown",
   "id": "576a9d24",
   "metadata": {},
   "source": [
    "## Task matrix"
   ]
  },
  {
   "cell_type": "code",
   "execution_count": null,
   "id": "19a04e06",
   "metadata": {},
   "outputs": [],
   "source": [
    "%%writefile summary_task_matrix.R\n",
    "\n",
    "tasks = data.frame(check.names = FALSE)\n",
    "\n",
    "for (trait in c('LDL')) {\n",
    "    tasks = rbind(tasks, \n",
    "                  data.frame(\n",
    "                      '--input-recursive PACKAGE'=paste0(bucket, 'Package/'),\n",
    "                      '--input UTILS'=paste0(bucket, 'Package/big_gglassoUtils.cpp'),\n",
    "                      '--input PLINK_RDS'=paste0(bucket, 'Analysis/arrays.rds'),\n",
    "                      '--input PLINK_BK'=paste0(bucket, 'Analysis/arrays.bk'),\n",
    "                      '--input MAP'=paste0(bucket, 'Analysis/aou_ukb_map.txt'),\n",
    "                      '--input PHENO'=paste0(bucket, 'Continuous/aou_', trait, '_pheno.tsv'),\n",
    "                      '--input COV'=paste0(bucket, 'Continuous/aou_', trait, '_cov.tsv'),\n",
    "                      '--input RELATED'=paste0(bucket, 'relatedness_flagged_samples.tsv'),\n",
    "                      '--input ANCESTRY'=paste0(bucket, 'pca_ancestry.txt'),\n",
    "                      '--input PCA'=paste0(bucket, 'Analysis/aou_pca.sscore'),\n",
    "                      '--output OUT'=paste0(bucket, 'Continuous/', trait, '/', trait, '_summaries.RDS'),\n",
    "                      '--output Esum'=paste0(bucket, 'Continuous/', trait, '/', trait, '_Esum.RDS'),\n",
    "                      check.names = FALSE\n",
    "                  ))\n",
    "}\n",
    "\n",
    "colnames(tasks)\n",
    "write.table(tasks, \n",
    "            file=\"summary_task_matrix.txt\", \n",
    "            row.names=F, col.names=T, \n",
    "            sep='\\t', quote=F)"
   ]
  },
  {
   "cell_type": "code",
   "execution_count": null,
   "id": "44d7836f",
   "metadata": {},
   "outputs": [],
   "source": [
    "!Rscript summary_task_matrix.R"
   ]
  },
  {
   "cell_type": "markdown",
   "id": "5c4c7a39",
   "metadata": {},
   "source": [
    "## Run jobs"
   ]
  },
  {
   "cell_type": "code",
   "execution_count": null,
   "id": "b6aa8cf8",
   "metadata": {},
   "outputs": [],
   "source": [
    "%%bash --out Continuous_sum_batch\n",
    "\n",
    "# https://isb-cancer-genomics-cloud.readthedocs.io/en/latest/sections/QueryOfTheMonthClub.html#november-2017\n",
    "\n",
    "source ~/aou_dsub.bash # This file was created via notebook 01_dsub_setup.ipynb.\n",
    "\n",
    "docker_image='tacantong/polygenicriskscores:v1'\n",
    "\n",
    "aou_dsub \\\n",
    "  --image \"${docker_image}\" \\\n",
    "  --disk-size 512 \\\n",
    "  --boot-disk-size 100 \\\n",
    "  --min-ram 10 \\\n",
    "  --timeout \"1d\" \\\n",
    "  --logging \"${WORKSPACE_BUCKET}/data/logging\" \\\n",
    "  --script aou_bigsummary_full.R \\\n",
    "  --tasks summary_task_matrix.txt"
   ]
  },
  {
   "cell_type": "markdown",
   "id": "ee96cf2d",
   "metadata": {},
   "source": [
    "# Ancestry-specific GWAS"
   ]
  },
  {
   "cell_type": "markdown",
   "id": "372ec2cd",
   "metadata": {},
   "source": [
    "## PLINK script"
   ]
  },
  {
   "cell_type": "code",
   "execution_count": null,
   "id": "339b9aad",
   "metadata": {},
   "outputs": [],
   "source": [
    "%%writefile ancestry_gwas.sh\n",
    "#!/bin/bash\n",
    "\n",
    "set -o errexit\n",
    "set -o nounset\n",
    "\n",
    "plink2 --bfile \"${input_path}/arrays\" \\\n",
    "--pheno \"${pheno}\" \\\n",
    "--keep \"${id}\" \\\n",
    "--extract \"${snp}\" \\\n",
    "--covar \"${cov}\" \\\n",
    "--covar-name age,female,PC1,PC2,PC3,PC4,PC5,PC6,PC7,PC8,PC9,PC10,PC11,PC12,PC13,PC14,PC15,PC16,PC17,PC18,PC19,PC20 \\\n",
    "--covar-variance-standardize \\\n",
    "--linear hide-covar cols=+a1freq \\\n",
    "--out \"${out}/${anc}\""
   ]
  },
  {
   "cell_type": "markdown",
   "id": "cacab293",
   "metadata": {},
   "source": [
    "## Run jobs"
   ]
  },
  {
   "cell_type": "code",
   "execution_count": null,
   "id": "92ece93c",
   "metadata": {},
   "outputs": [],
   "source": [
    "%%bash\n",
    "\n",
    "source ~/aou_dsub.bash # This file was created via notebook 01_dsub_setup.ipynb.\n",
    "\n",
    "for trait in LDL; do\n",
    "echo $trait\n",
    "\n",
    "for anc in afr amr eas eur mid sas; do\n",
    "aou_dsub \\\n",
    "  --image biocontainer/plink2:alpha2.3_jan2020 \\\n",
    "  --disk-size 512 \\\n",
    "  --boot-disk-size 50 \\\n",
    "  --min-ram 50 \\\n",
    "  --min-cores 4 \\\n",
    "  --logging \"${WORKSPACE_BUCKET}/data/logging\" \\\n",
    "  --input-recursive input_path=\"gs://fc-aou-datasets-controlled/v7/microarray/plink\" \\\n",
    "  --input-recursive input_path2=\"${WORKSPACE_BUCKET}/data/Continuous/${trait}\" \\\n",
    "  --input snp=\"${WORKSPACE_BUCKET}/data/Analysis/aou_ukb_map.snp38\" \\\n",
    "  --env anc=\"${anc}\" \\\n",
    "  --input id=\"${WORKSPACE_BUCKET}/data/${anc}.id\" \\\n",
    "  --input cov=\"${WORKSPACE_BUCKET}/data/Continuous/aou_${trait}_cov.tsv\" \\\n",
    "  --input pheno=\"${WORKSPACE_BUCKET}/data/Continuous/aou_${trait}_pheno.tsv\" \\\n",
    "  --output-recursive out=\"${WORKSPACE_BUCKET}/data/Continuous/${trait}\" \\\n",
    "  --script ancestry_gwas.sh\n",
    "done  \n"
   ]
  },
  {
   "cell_type": "markdown",
   "id": "61839586",
   "metadata": {},
   "source": [
    "# Interaction GWAS"
   ]
  },
  {
   "cell_type": "markdown",
   "id": "41070975",
   "metadata": {},
   "source": [
    "## PLINK script"
   ]
  },
  {
   "cell_type": "code",
   "execution_count": null,
   "id": "6e012ea1",
   "metadata": {},
   "outputs": [],
   "source": [
    "%%writefile interaction_gwas.sh\n",
    "#!/bin/bash\n",
    "\n",
    "set -o errexit\n",
    "set -o nounset\n",
    "\n",
    "plink2 --bfile \"${input_path}/arrays\" \\\n",
    "--pheno \"${pheno}\" \\\n",
    "--covar \"${cov}\" \\\n",
    "--keep \"${id}\" \\\n",
    "--extract \"${snp}\" \\\n",
    "--linear interaction hide-covar \\\n",
    "--covar-variance-standardize \\\n",
    "--parameters 1-23,26-30 \\\n",
    "--tests 24-28 \\\n",
    "--out \"${out}/int\""
   ]
  },
  {
   "cell_type": "markdown",
   "id": "1d396b46",
   "metadata": {},
   "source": [
    "## Run jobs"
   ]
  },
  {
   "cell_type": "code",
   "execution_count": null,
   "id": "3e79c9cf",
   "metadata": {},
   "outputs": [],
   "source": [
    "%%bash\n",
    "\n",
    "source ~/aou_dsub.bash # This file was created via notebook 01_dsub_setup.ipynb.\n",
    "\n",
    "for trait in LDL; do\n",
    "\n",
    "aou_dsub \\\n",
    "  --image biocontainer/plink2:alpha2.3_jan2020 \\\n",
    "  --disk-size 512 \\\n",
    "  --boot-disk-size 50 \\\n",
    "  --min-ram 50 \\\n",
    "  --min-cores 8 \\\n",
    "  --logging \"${WORKSPACE_BUCKET}/data/logging\" \\\n",
    "  --input-recursive input_path=\"gs://fc-aou-datasets-controlled/v7/microarray/plink\" \\\n",
    "  --input-recursive input_path2=\"${WORKSPACE_BUCKET}/data/Continuous/${trait}\" \\\n",
    "  --input snp=\"${WORKSPACE_BUCKET}/data/Analysis/aou_ukb_map.snp38\" \\\n",
    "  --input id=\"${WORKSPACE_BUCKET}/data/eurafr.id\" \\\n",
    "  --input cov=\"${WORKSPACE_BUCKET}/data/Continuous/aou_${trait}_cov.tsv\" \\\n",
    "  --input pheno=\"${WORKSPACE_BUCKET}/data/Continuous/aou_${trait}_pheno.tsv\" \\\n",
    "  --output-recursive out=\"${WORKSPACE_BUCKET}/data/Continuous/${trait}\" \\\n",
    "  --script interaction_gwas.sh\n",
    "  \n",
    "done"
   ]
  },
  {
   "cell_type": "code",
   "execution_count": null,
   "id": "83b07962",
   "metadata": {},
   "outputs": [],
   "source": []
  },
  {
   "cell_type": "markdown",
   "id": "28cb7343",
   "metadata": {},
   "source": [
    "# SPLENDID summaries"
   ]
  },
  {
   "cell_type": "markdown",
   "id": "fe2cb555",
   "metadata": {},
   "source": [
    "## Task matrix"
   ]
  },
  {
   "cell_type": "code",
   "execution_count": null,
   "id": "938cba8c",
   "metadata": {},
   "outputs": [],
   "source": [
    "%%writefile summary_task_matrix.R\n",
    "\n",
    "tasks = data.frame(check.names = FALSE)\n",
    "\n",
    "for (trait in c('LDL')) {\n",
    "    tasks = rbind(tasks, \n",
    "                  data.frame(\n",
    "                      '--input-recursive PACKAGE'=paste0(bucket, 'Package/'),\n",
    "                      '--input UTILS'=paste0(bucket, 'Package/big_gglassoUtils.cpp'),\n",
    "                      '--input PLINK_RDS'=paste0(bucket, 'Analysis/arrays.rds'),\n",
    "                      '--input PLINK_BK'=paste0(bucket, 'Analysis/arrays.bk'),\n",
    "                      '--input MAP'=paste0(bucket, 'Analysis/aou_ukb_map.txt'),\n",
    "                      '--input PHENO'=paste0(bucket, 'Continuous/aou_', trait, '_pheno.tsv'),\n",
    "                      '--input COV'=paste0(bucket, 'Continuous/aou_', trait, '_cov.tsv'),\n",
    "                      '--input RELATED'=paste0(bucket, 'relatedness_flagged_samples.tsv'),\n",
    "                      '--input ANCESTRY'=paste0(bucket, 'pca_ancestry.txt'),\n",
    "                      '--input PCA'=paste0(bucket, 'Analysis/aou_pca.sscore'),\n",
    "                      '--output OUT'=paste0(bucket, 'Continuous/', trait, '/', trait, '_summaries.RDS'),\n",
    "                      '--output Esum'=paste0(bucket, 'Continuous/', trait, '/', trait, '_Esum.RDS'),\n",
    "                      check.names = FALSE\n",
    "                  ))\n",
    "}\n",
    "\n",
    "colnames(tasks)\n",
    "write.table(tasks, \n",
    "            file=\"summary_task_matrix.txt\", \n",
    "            row.names=F, col.names=T, \n",
    "            sep='\\t', quote=F)"
   ]
  },
  {
   "cell_type": "markdown",
   "id": "accb4e1e",
   "metadata": {},
   "source": [
    "## Run jobs"
   ]
  },
  {
   "cell_type": "code",
   "execution_count": null,
   "id": "ac6d073d",
   "metadata": {},
   "outputs": [],
   "source": [
    "%%bash --out Continuous_sum_batch\n",
    "\n",
    "# https://isb-cancer-genomics-cloud.readthedocs.io/en/latest/sections/QueryOfTheMonthClub.html#november-2017\n",
    "\n",
    "source ~/aou_dsub.bash # This file was created via notebook 01_dsub_setup.ipynb.\n",
    "\n",
    "docker_image='tacantong/polygenicriskscores:v1'\n",
    "\n",
    "aou_dsub \\\n",
    "  --image \"${docker_image}\" \\\n",
    "  --disk-size 512 \\\n",
    "  --boot-disk-size 100 \\\n",
    "  --min-ram 10 \\\n",
    "  --timeout \"1d\" \\\n",
    "  --logging \"${WORKSPACE_BUCKET}/data/logging\" \\\n",
    "  --script aou_bigsummary_full.R \\\n",
    "  --tasks summary_task_matrix.txt"
   ]
  },
  {
   "cell_type": "markdown",
   "id": "9ddd0eb4",
   "metadata": {},
   "source": [
    "# SPLENDID training"
   ]
  },
  {
   "cell_type": "markdown",
   "id": "5cd2d5bc",
   "metadata": {},
   "source": [
    "## Task matrix"
   ]
  },
  {
   "cell_type": "code",
   "execution_count": null,
   "id": "8eca6938",
   "metadata": {},
   "outputs": [],
   "source": [
    "%%writefile analysis_task_matrix.R\n",
    "\n",
    "tasks = data.frame(check.names = FALSE)\n",
    "\n",
    "for (trait in c('LDL')) {\n",
    "    for (pval in c('0', '5e-8', '5e-6')) {\n",
    "        for (lambda_ix in 1:5) {\n",
    "            x = try(system(paste0('gsutil ls ${WORKSPACE_BUCKET}/data/Continuous/', trait, '/Results/model_pval_', pval, '_lambda', lambda_ix, '.RDS'),\n",
    "                  intern=T))\n",
    "            if (length(x) == 0) {\n",
    "                cat(trait, pval, lambda_ix, '\\n')\n",
    "                tasks = rbind(tasks, \n",
    "                              data.frame('--env PVAL'=pval,\n",
    "                                         '--env LAMBDA_IX'=lambda_ix,\n",
    "                                         '--env DFMAX'=dfmax,\n",
    "                                         '--input-recursive PACKAGE'=paste0(bucket, 'Package/'),\n",
    "                                         '--input UTILS'=paste0(bucket, 'Package/big_gglassoUtils.cpp'),\n",
    "                                         '--input LIN'=paste0(bucket, 'Package/big_gglassoLin.cpp'),\n",
    "                                         '--input PLINK_RDS'=paste0(bucket, 'Analysis/arrays.rds'),\n",
    "                                         '--input PLINK_BK'=paste0(bucket, 'Analysis/arrays.bk'),\n",
    "                                         '--input MAP'=paste0(bucket, 'Analysis/aou_ukb_map_final.txt'),\n",
    "                                         '--input PHENO'=paste0(bucket, 'Continuous/aou_', trait, '_pheno.tsv'),\n",
    "                                         '--input COV'=paste0(bucket, 'Continuous/aou_', trait, '_cov.tsv'),\n",
    "                                         '--input RELATED'=paste0(bucket, 'relatedness_flagged_samples.tsv'),\n",
    "                                         '--input ANCESTRY'=paste0(bucket, 'pca_ancestry.txt'),\n",
    "                                         '--input PCA'=paste0(bucket, 'Analysis/aou_pca.sscore'),\n",
    "                                         '--input SUMMARY'=paste0(bucket, 'Continuous/', trait, '/', trait, '_summaries.RDS'),\n",
    "                                         '--input META'=paste0(bucket, 'Continuous/', trait, '/', trait, '_meta.txt'),\n",
    "                                         '--output-recursive OUT'=paste0(bucket, 'Continuous/', trait, '/Results'),\n",
    "                                         check.names = FALSE))\n",
    "            }\n",
    "        }        \n",
    "    }\n",
    "}\n",
    "\n",
    "\n",
    "colnames(tasks)\n",
    "write.table(tasks, \n",
    "            file=\"analysis_task_matrix.txt\", \n",
    "            row.names=F, col.names=T, \n",
    "            sep='\\t', quote=F)"
   ]
  },
  {
   "cell_type": "markdown",
   "id": "82de3aa6",
   "metadata": {},
   "source": [
    "## Run jobs"
   ]
  },
  {
   "cell_type": "code",
   "execution_count": null,
   "id": "05dd8645",
   "metadata": {},
   "outputs": [],
   "source": [
    "%%bash --out Continuous_analysis_batch\n",
    "\n",
    "# https://isb-cancer-genomics-cloud.readthedocs.io/en/latest/sections/QueryOfTheMonthClub.html#november-2017\n",
    "\n",
    "source ~/aou_dsub.bash # This file was created via notebook 01_dsub_setup.ipynb.\n",
    "\n",
    "docker_image='tacantong/polygenicriskscores:v1'\n",
    "\n",
    "aou_dsub \\\n",
    "  --image \"${docker_image}\" \\\n",
    "  --disk-size 300 \\\n",
    "  --min-ram 10 \\\n",
    "  --timeout '1d' \\\n",
    "  --logging \"${WORKSPACE_BUCKET}/data/logging\" \\\n",
    "  --script ${WORKSPACE_BUCKET}/data/aou_bigL0L1_continuous.R \\\n",
    "  --tasks analysis_task_matrix.txt"
   ]
  },
  {
   "cell_type": "markdown",
   "id": "bfd5ad12",
   "metadata": {},
   "source": [
    "# iPGS training"
   ]
  },
  {
   "cell_type": "code",
   "execution_count": null,
   "id": "f2de0801",
   "metadata": {},
   "outputs": [],
   "source": [
    "%%writefile lasso_task_matrix.R\n",
    "\n",
    "tasks = data.frame(check.names = FALSE)\n",
    "\n",
    "for (trait in c('LDL')) {\n",
    "    tasks = rbind(tasks, \n",
    "                  data.frame('--input-recursive PACKAGE'=paste0(bucket, 'Package/'),\n",
    "                             '--input UTILS'=paste0(bucket, 'Package/big_gglassoUtils.cpp'),\n",
    "                             '--input LIN'=paste0(bucket, 'Package/big_gglassoLin.cpp'),\n",
    "                             '--input PLINK_RDS'=paste0(bucket, 'Analysis/arrays.rds'),\n",
    "                             '--input PLINK_BK'=paste0(bucket, 'Analysis/arrays.bk'),\n",
    "                             '--input MAP'=paste0(bucket, 'Analysis/aou_ukb_map_final.txt'),\n",
    "                             '--input PHENO'=paste0(bucket, 'Continuous/aou_', trait, '_pheno.tsv'),\n",
    "                             '--input COV'=paste0(bucket, 'Continuous/aou_', trait, '_cov.tsv'),\n",
    "                             '--input RELATED'=paste0(bucket, 'relatedness_flagged_samples.tsv'),\n",
    "                             '--input ANCESTRY'=paste0(bucket, 'pca_ancestry.txt'),\n",
    "                             '--input PCA'=paste0(bucket, 'Analysis/aou_pca.sscore'),\n",
    "                             '--input SUMMARY'=paste0(bucket, 'Continuous/', trait, '/', trait, '_summaries.RDS'),\n",
    "                             '--output-recursive OUT'=paste0(bucket, 'Continuous/', trait, '/Results'),\n",
    "                             check.names = FALSE))\n",
    "        \n",
    "}\n",
    "\n",
    "colnames(tasks)\n",
    "write.table(tasks, \n",
    "            file=\"lasso_task_matrix.txt\", \n",
    "            row.names=F, col.names=T, \n",
    "            sep='\\t', quote=F)"
   ]
  },
  {
   "cell_type": "markdown",
   "id": "05c40bb0",
   "metadata": {},
   "source": [
    "## Run jobs"
   ]
  },
  {
   "cell_type": "code",
   "execution_count": null,
   "id": "f93c2533",
   "metadata": {},
   "outputs": [],
   "source": [
    "%%bash --out Continuous_analysis_batch\n",
    "\n",
    "# https://isb-cancer-genomics-cloud.readthedocs.io/en/latest/sections/QueryOfTheMonthClub.html#november-2017\n",
    "\n",
    "source ~/aou_dsub.bash # This file was created via notebook 01_dsub_setup.ipynb.\n",
    "\n",
    "docker_image='tacantong/polygenicriskscores:v1'\n",
    "\n",
    "aou_dsub \\\n",
    "  --image \"${docker_image}\" \\\n",
    "  --disk-size 300 \\\n",
    "  --min-ram 10 \\\n",
    "  --logging \"${WORKSPACE_BUCKET}/data/logging\" \\\n",
    "  --script \"${WORKSPACE_BUCKET}/data/aou_bigLasso_continuous.R\" \\\n",
    "  --tasks lasso_task_matrix.txt"
   ]
  }
 ],
 "metadata": {
  "kernelspec": {
   "display_name": "Python 3 (ipykernel)",
   "language": "python",
   "name": "python3"
  },
  "language_info": {
   "codemirror_mode": {
    "name": "ipython",
    "version": 3
   },
   "file_extension": ".py",
   "mimetype": "text/x-python",
   "name": "python",
   "nbconvert_exporter": "python",
   "pygments_lexer": "ipython3",
   "version": "3.9.7"
  }
 },
 "nbformat": 4,
 "nbformat_minor": 5
}
