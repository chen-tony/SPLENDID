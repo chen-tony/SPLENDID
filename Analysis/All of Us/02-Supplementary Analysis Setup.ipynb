{
 "cells": [
  {
   "cell_type": "markdown",
   "id": "ad6ca36d",
   "metadata": {},
   "source": [
    "# CV Summaries"
   ]
  },
  {
   "cell_type": "code",
   "execution_count": null,
   "id": "89b5ad3e",
   "metadata": {},
   "outputs": [],
   "source": [
    "%%writefile cv_summary_task_matrix.R\n",
    "\n",
    "bucket = 'gs://fc-secure-4cd71c22-4c0a-45c8-ab6a-aab6e509c6bd/data/'\n",
    "\n",
    "tasks = data.frame(check.names = FALSE)\n",
    "\n",
    "for (trait in c('LDL', 'MCH')) {\n",
    "    tasks = rbind(tasks, \n",
    "                  data.frame(\n",
    "                      '--input-recursive PACKAGE'=paste0(bucket, 'Package2/'),\n",
    "                      '--input UTILS'=paste0(bucket, 'Package2/utils.cpp'),\n",
    "                      '--input PLINK_RDS'=paste0(bucket, 'Analysis/arrays.rds'),\n",
    "                      '--input PLINK_BK'=paste0(bucket, 'Analysis/arrays.bk'),\n",
    "                      '--input MAP'=paste0(bucket, 'Analysis/aou_ukb_map.txt'),\n",
    "                      '--input PHENO'=paste0(bucket, 'Continuous/aou_', trait, '_pheno.tsv'),\n",
    "                      '--input COV'=paste0(bucket, 'Continuous/aou_', trait, '_cov.tsv'),\n",
    "                      '--input RELATED'=paste0(bucket, 'relatedness_flagged_samples.tsv'),\n",
    "                      '--input TRAIN_FOLD'=paste0(bucket, 'Continuous/', trait, '_CV/', trait, '_train_fold.txt'),\n",
    "                      '--input ANCESTRY'=paste0(bucket, 'pca_ancestry.txt'),\n",
    "                      '--input PCA'=paste0(bucket, 'Analysis/aou_pca.sscore'),\n",
    "                      '--output OUT'=paste0(bucket, 'Continuous/', trait, '_CV/', trait, '_summaries.RDS'),\n",
    "                      '--output Esum'=paste0(bucket, 'Continuous/', trait, '_CV/', trait, '_Esum.RDS'),\n",
    "                      check.names = FALSE\n",
    "                  ))\n",
    "}\n",
    "\n",
    "colnames(tasks)\n",
    "write.table(tasks, \n",
    "            file=\"cv_summary_task_matrix.txt\", \n",
    "            row.names=F, col.names=T, \n",
    "            sep='\\t', quote=F)"
   ]
  },
  {
   "cell_type": "code",
   "execution_count": null,
   "id": "646213f2",
   "metadata": {},
   "outputs": [],
   "source": [
    "!Rscript cv_summary_task_matrix.R"
   ]
  },
  {
   "cell_type": "code",
   "execution_count": null,
   "id": "7ce5f7c5",
   "metadata": {},
   "outputs": [],
   "source": [
    "%%bash --out Continuous_sum_batch\n",
    "\n",
    "# https://isb-cancer-genomics-cloud.readthedocs.io/en/latest/sections/QueryOfTheMonthClub.html#november-2017\n",
    "\n",
    "source ~/aou_dsub.bash # This file was created via notebook 01_dsub_setup.ipynb.\n",
    "\n",
    "docker_image='tacantong/polygenicriskscores:v1'\n",
    "\n",
    "aou_dsub \\\n",
    "  --image \"${docker_image}\" \\\n",
    "  --disk-size 512 \\\n",
    "  --boot-disk-size 100 \\\n",
    "  --min-ram 10 \\\n",
    "  --min-cores 5 \\\n",
    "  --timeout \"1d\" \\\n",
    "  --logging \"${WORKSPACE_BUCKET}/data/logging\" \\\n",
    "  --script aou_bigsummary_CV.R \\\n",
    "  --tasks cv_summary_task_matrix.txt"
   ]
  },
  {
   "cell_type": "markdown",
   "id": "4cff584b",
   "metadata": {},
   "source": [
    "# Phecodes (in R)"
   ]
  },
  {
   "cell_type": "markdown",
   "id": "1d00b15e",
   "metadata": {},
   "source": [
    "Adapted from \"All-by-All Phecode Curation\" workspace"
   ]
  },
  {
   "cell_type": "code",
   "execution_count": null,
   "id": "c19e70de",
   "metadata": {},
   "outputs": [],
   "source": [
    "suppressPackageStartupMessages({\n",
    "    library(dplyr)\n",
    "    library(data.table)\n",
    "    library(tidyr)\n",
    "})"
   ]
  },
  {
   "cell_type": "code",
   "execution_count": null,
   "id": "77abb270",
   "metadata": {},
   "outputs": [],
   "source": [
    "data = fread('mcc2_phecode_table.csv')"
   ]
  },
  {
   "cell_type": "code",
   "execution_count": null,
   "id": "0dfcbcd7",
   "metadata": {},
   "outputs": [],
   "source": [
    "pheno = data %>%\n",
    "mutate(FID=0) %>%\n",
    "select(FID, IID=person_id, Breast='174.1', Prostate='185', T2D='250.2')"
   ]
  },
  {
   "cell_type": "markdown",
   "id": "1669ad21",
   "metadata": {},
   "source": [
    "# Compute Summaries"
   ]
  },
  {
   "cell_type": "markdown",
   "id": "4586d17f",
   "metadata": {},
   "source": [
    "## Logistic"
   ]
  },
  {
   "cell_type": "code",
   "execution_count": null,
   "id": "cca7fbeb",
   "metadata": {},
   "outputs": [],
   "source": [
    "%%writefile cv_summary_task_matrix.R\n",
    "\n",
    "tasks = data.frame(check.names = FALSE)\n",
    "\n",
    "for (trait in c('T2D', 'Breast', 'Prostate')) {\n",
    "    tasks = rbind(tasks, \n",
    "                  data.frame(\n",
    "                      '--input-recursive PACKAGE'=paste0(bucket, 'Package_NEW/'),\n",
    "                      '--input UTILS'=paste0(bucket, 'Package_NEW/utils.cpp'),\n",
    "                      '--input PLINK_RDS'=paste0(bucket, 'Analysis/arrays.rds'),\n",
    "                      '--input PLINK_BK'=paste0(bucket, 'Analysis/arrays.bk'),\n",
    "                      '--input MAP'=paste0(bucket, 'Analysis/aou_ukb_map.txt'),\n",
    "                      '--input PHENO'=paste0(bucket, 'Binary/', trait, '/', trait, '_allpheno.tsv'),\n",
    "                      '--input COV'=paste0(bucket, 'Binary/', trait, '/', trait, '_allcov.tsv'),\n",
    "                      '--input RELATED'=paste0(bucket, 'relatedness_flagged_samples.tsv'),\n",
    "                      '--input TRAIN_FOLD'=paste0(bucket, 'Binary/', trait, '_CV/', trait, '_train_fold.txt'),\n",
    "                      '--input ANCESTRY'=paste0(bucket, 'pca_ancestry.txt'),\n",
    "                      '--input PCA'=paste0(bucket, 'Analysis/aou_pca.sscore'),\n",
    "                      '--output OUT'=paste0(bucket, 'Binary/', trait, '_CV/', trait, '_summaries.RDS'),\n",
    "                      '--output Esum'=paste0(bucket, 'Binary/', trait, '_CV/', trait, '_Esum.RDS'),\n",
    "                      check.names = FALSE\n",
    "                  ))\n",
    "}\n",
    "\n",
    "colnames(tasks)\n",
    "write.table(tasks, \n",
    "            file=\"cv_summary_task_matrix.txt\", \n",
    "            row.names=F, col.names=T, \n",
    "            sep='\\t', quote=F)"
   ]
  },
  {
   "cell_type": "code",
   "execution_count": null,
   "id": "dafa768e",
   "metadata": {},
   "outputs": [],
   "source": [
    "!Rscript cv_summary_task_matrix.R"
   ]
  },
  {
   "cell_type": "code",
   "execution_count": null,
   "id": "cd2872a0",
   "metadata": {},
   "outputs": [],
   "source": [
    "%%bash --out Binary_sum_batch\n",
    "\n",
    "# https://isb-cancer-genomics-cloud.readthedocs.io/en/latest/sections/QueryOfTheMonthClub.html#november-2017\n",
    "\n",
    "source ~/aou_dsub.bash # This file was created via notebook 01_dsub_setup.ipynb.\n",
    "\n",
    "docker_image='tacantong/polygenicriskscores:v1'\n",
    "\n",
    "aou_dsub \\\n",
    "  --image \"${docker_image}\" \\\n",
    "  --disk-size 512 \\\n",
    "  --boot-disk-size 100 \\\n",
    "  --min-ram 20 \\\n",
    "  --min-cores 5 \\\n",
    "  --timeout \"1d\" \\\n",
    "  --logging \"${WORKSPACE_BUCKET}/data/logging\" \\\n",
    "  --script aou_bigsummary_binary_CV.R \\\n",
    "  --tasks cv_summary_task_matrix.txt"
   ]
  },
  {
   "cell_type": "markdown",
   "id": "cf0a2c44",
   "metadata": {},
   "source": [
    "## Linear"
   ]
  },
  {
   "cell_type": "code",
   "execution_count": null,
   "id": "11ae4a66",
   "metadata": {},
   "outputs": [],
   "source": [
    "%%writefile cv_summary_task_matrix.R\n",
    "\n",
    "tasks = data.frame(check.names = FALSE)\n",
    "\n",
    "for (trait in c('T2D', 'Breast', 'Prostate')) {\n",
    "    tasks = rbind(tasks, \n",
    "                  data.frame(\n",
    "                      '--input-recursive PACKAGE'=paste0(bucket, 'Package_NEW/'),\n",
    "                      '--input UTILS'=paste0(bucket, 'Package_NEW/utils.cpp'),\n",
    "                      '--input PLINK_RDS'=paste0(bucket, 'Analysis/arrays.rds'),\n",
    "                      '--input PLINK_BK'=paste0(bucket, 'Analysis/arrays.bk'),\n",
    "                      '--input MAP'=paste0(bucket, 'Analysis/aou_ukb_map.txt'),\n",
    "                      '--input PHENO'=paste0(bucket, 'Binary/', trait, '/', trait, '_allpheno.tsv'),\n",
    "                      '--input COV'=paste0(bucket, 'Binary/', trait, '/', trait, '_allcov.tsv'),\n",
    "                      '--input RELATED'=paste0(bucket, 'relatedness_flagged_samples.tsv'),\n",
    "                      '--input TRAIN_FOLD'=paste0(bucket, 'Binary/', trait, '_CV/', trait, '_train_fold.txt'),\n",
    "                      '--input ANCESTRY'=paste0(bucket, 'pca_ancestry.txt'),\n",
    "                      '--input PCA'=paste0(bucket, 'Analysis/aou_pca.sscore'),\n",
    "                      '--output OUT'=paste0(bucket, 'Binary/', trait, '_CV/', trait, '_summaries.RDS'),\n",
    "                      '--output Esum'=paste0(bucket, 'Binary/', trait, '_CV/', trait, '_Esum.RDS'),\n",
    "                      check.names = FALSE\n",
    "                  ))\n",
    "}\n",
    "\n",
    "colnames(tasks)\n",
    "write.table(tasks, \n",
    "            file=\"cv_summary_task_matrix.txt\", \n",
    "            row.names=F, col.names=T, \n",
    "            sep='\\t', quote=F)"
   ]
  },
  {
   "cell_type": "code",
   "execution_count": null,
   "id": "08b3079a",
   "metadata": {},
   "outputs": [],
   "source": [
    "!Rscript cv_summary_task_matrix.R"
   ]
  },
  {
   "cell_type": "code",
   "execution_count": null,
   "id": "987c3200",
   "metadata": {},
   "outputs": [],
   "source": [
    "%%bash --out Binary_sum_batch\n",
    "\n",
    "# https://isb-cancer-genomics-cloud.readthedocs.io/en/latest/sections/QueryOfTheMonthClub.html#november-2017\n",
    "\n",
    "source ~/aou_dsub.bash # This file was created via notebook 01_dsub_setup.ipynb.\n",
    "\n",
    "docker_image='tacantong/polygenicriskscores:v1'\n",
    "\n",
    "aou_dsub \\\n",
    "  --image \"${docker_image}\" \\\n",
    "  --disk-size 512 \\\n",
    "  --boot-disk-size 100 \\\n",
    "  --min-ram 20 \\\n",
    "  --min-cores 5 \\\n",
    "  --timeout \"1d\" \\\n",
    "  --logging \"${WORKSPACE_BUCKET}/data/logging\" \\\n",
    "  --script aou_bigsummary_CV.R \\\n",
    "  --tasks cv_summary_task_matrix.txt"
   ]
  },
  {
   "cell_type": "markdown",
   "id": "95821965",
   "metadata": {},
   "source": [
    "# Run SPLENDID-CMSA"
   ]
  },
  {
   "cell_type": "markdown",
   "id": "2685be3b",
   "metadata": {},
   "source": [
    "## Logistic"
   ]
  },
  {
   "cell_type": "code",
   "execution_count": null,
   "id": "ec310c97",
   "metadata": {},
   "outputs": [],
   "source": [
    "%%writefile binary_task_matrix.R\n",
    "\n",
    "tasks = data.frame(check.names = FALSE)\n",
    "\n",
    "for (trait in c('T2D', 'Breast', 'Prostate')) {\n",
    "    for(FOLD_ID in 1:5) {\n",
    "        \n",
    "        x = try(system(paste0('gsutil ls ${WORKSPACE_BUCKET}/data/Binary/', trait, '_CV/Results_Logistic/cross_fold', FOLD_ID, '.RDS'),\n",
    "                       intern=T))\n",
    "\n",
    "        if (length(x) < 1) {\n",
    "            cat(trait, FOLD_ID, '\\n')\n",
    "            tasks = rbind(tasks, \n",
    "                          data.frame('--env DFMAX'=10000,\n",
    "                                     '--env FOLD_ID'=FOLD_ID,\n",
    "                                     '--input-recursive PACKAGE'=paste0(bucket, 'Package/'),\n",
    "                                     '--input UTILS'=paste0(bucket, 'Package/utils.cpp'),\n",
    "                                     '--input LIN'=paste0(bucket, 'Package/logistic.cpp'),\n",
    "                                     '--input PLINK_RDS'=paste0(bucket, 'Analysis/arrays.rds'),\n",
    "                                     '--input PLINK_BK'=paste0(bucket, 'Analysis/arrays.bk'),\n",
    "                                     '--input MAP'=paste0(bucket, 'Analysis/aou_ukb_map_final.txt'),\n",
    "                                     '--input PHENO'=paste0(bucket, 'Binary/', trait, '/', trait, '_allpheno.tsv'),\n",
    "                                     '--input COV'=paste0(bucket, 'Binary/', trait, '/', trait, '_allcov.tsv'),\n",
    "                                     '--input RELATED'=paste0(bucket, 'relatedness_flagged_samples.tsv'),\n",
    "                                     '--input ANCESTRY'=paste0(bucket, 'pca_ancestry.txt'),\n",
    "                                     '--input PCA'=paste0(bucket, 'Analysis/aou_pca.sscore'),\n",
    "                                     '--input TRAIN_FOLD'=paste0(bucket, 'Binary/', trait, '_CV/', trait, '_train_fold.txt'),\n",
    "                                     '--input TEST_FOLD'=paste0(bucket, 'Binary/', trait, '_CV/', trait, '_test_fold.txt'),\n",
    "                                     '--input Esum'=paste0(bucket, 'Binary/', trait, '_CV/', trait, '_Esum.RDS'),\n",
    "                                     '--input SUMMARY'=paste0(bucket, 'Binary/', trait, '_CV/', trait, '_summaries.RDS'),\n",
    "                                     '--input META'=paste0(bucket, 'Binary/', trait, '/', trait, '_interaction_gwas.txt'),\n",
    "                                     '--output-recursive OUT'=paste0(bucket, 'Binary/', trait, '_CV/Results_Logistic'),\n",
    "                                     check.names = FALSE))\n",
    "        }\n",
    "    }\n",
    "}\n",
    "\n",
    "colnames(tasks)\n",
    "write.table(tasks, \n",
    "            file=\"binary_task_matrix.txt\", \n",
    "            row.names=F, col.names=T, \n",
    "            sep='\\t', quote=F)"
   ]
  },
  {
   "cell_type": "code",
   "execution_count": null,
   "id": "a62195b0",
   "metadata": {},
   "outputs": [],
   "source": [
    "!Rscript binary_task_matrix.R"
   ]
  },
  {
   "cell_type": "code",
   "execution_count": null,
   "id": "26f08685",
   "metadata": {},
   "outputs": [],
   "source": [
    "%%bash --out Binary_analysis_batch\n",
    "\n",
    "# https://isb-cancer-genomics-cloud.readthedocs.io/en/latest/sections/QueryOfTheMonthClub.html#november-2017\n",
    "\n",
    "source ~/aou_dsub.bash # This file was created via notebook 01_dsub_setup.ipynb.\n",
    "\n",
    "docker_image='tacantong/polygenicriskscores:v1'\n",
    "\n",
    "aou_dsub \\\n",
    "--image \"${docker_image}\" \\\n",
    "--disk-size 300 \\\n",
    "--min-ram 20 \\\n",
    "--min-cores 1 \\\n",
    "--timeout '1d' \\\n",
    "--logging \"${WORKSPACE_BUCKET}/data/logging\" \\\n",
    "--script \"aou_bigL0L1_binary_CV.R\" \\\n",
    "--tasks \"binary_task_matrix.txt\""
   ]
  },
  {
   "cell_type": "markdown",
   "id": "3537421e",
   "metadata": {},
   "source": [
    "## Linear"
   ]
  },
  {
   "cell_type": "code",
   "execution_count": null,
   "id": "f9d0b7d8",
   "metadata": {},
   "outputs": [],
   "source": [
    "%%writefile binary_task_matrix.R\n",
    "\n",
    "tasks = data.frame(check.names = FALSE)\n",
    "\n",
    "for (trait in c('T2D', 'Breast', 'Prostate')) {\n",
    "    for(FOLD_ID in 1:5) {\n",
    "        \n",
    "        x = try(system(paste0('gsutil ls ${WORKSPACE_BUCKET}/data/Binary/', trait, '_CV/Results_Linear/cross_fold', FOLD_ID, '.RDS'),\n",
    "                       intern=T))\n",
    "\n",
    "        if (length(x) < 1) {\n",
    "            cat(trait, FOLD_ID, '\\n')\n",
    "            tasks = rbind(tasks, \n",
    "                          data.frame('--env DFMAX'=10000,\n",
    "                                     '--env FOLD_ID'=FOLD_ID,\n",
    "                                     '--input-recursive PACKAGE'=paste0(bucket, 'Package/'),\n",
    "                                     '--input UTILS'=paste0(bucket, 'Package/utils.cpp'),\n",
    "                                     '--input LIN'=paste0(bucket, 'Package/logistic.cpp'),\n",
    "                                     '--input PLINK_RDS'=paste0(bucket, 'Analysis/arrays.rds'),\n",
    "                                     '--input PLINK_BK'=paste0(bucket, 'Analysis/arrays.bk'),\n",
    "                                     '--input MAP'=paste0(bucket, 'Analysis/aou_ukb_map_final.txt'),\n",
    "                                     '--input PHENO'=paste0(bucket, 'Binary/', trait, '/', trait, '_allpheno.tsv'),\n",
    "                                     '--input COV'=paste0(bucket, 'Binary/', trait, '/', trait, '_allcov.tsv'),\n",
    "                                     '--input RELATED'=paste0(bucket, 'relatedness_flagged_samples.tsv'),\n",
    "                                     '--input ANCESTRY'=paste0(bucket, 'pca_ancestry.txt'),\n",
    "                                     '--input PCA'=paste0(bucket, 'Analysis/aou_pca.sscore'),\n",
    "                                     '--input TRAIN_FOLD'=paste0(bucket, 'Binary/', trait, '_CV/', trait, '_train_fold.txt'),\n",
    "                                     '--input TEST_FOLD'=paste0(bucket, 'Binary/', trait, '_CV/', trait, '_test_fold.txt'),\n",
    "                                     '--input Esum'=paste0(bucket, 'Binary/', trait, '_CV/', trait, '_Esum.RDS'),\n",
    "                                     '--input SUMMARY'=paste0(bucket, 'Binary/', trait, '_CV/', trait, '_summaries.RDS'),\n",
    "                                     '--input META'=paste0(bucket, 'Binary/', trait, '/', trait, '_interaction_gwas.txt'),\n",
    "                                     '--output-recursive OUT'=paste0(bucket, 'Binary/', trait, '_CV/Results_Linear'),\n",
    "                                     check.names = FALSE))\n",
    "        }\n",
    "    }\n",
    "}\n",
    "\n",
    "colnames(tasks)\n",
    "write.table(tasks, \n",
    "            file=\"binary_task_matrix.txt\", \n",
    "            row.names=F, col.names=T, \n",
    "            sep='\\t', quote=F)"
   ]
  },
  {
   "cell_type": "code",
   "execution_count": null,
   "id": "4bab90bb",
   "metadata": {},
   "outputs": [],
   "source": [
    "!Rscript binary_task_matrix.R"
   ]
  },
  {
   "cell_type": "code",
   "execution_count": null,
   "id": "674c44d9",
   "metadata": {},
   "outputs": [],
   "source": [
    "%%bash --out Binary_analysis_batch\n",
    "\n",
    "# https://isb-cancer-genomics-cloud.readthedocs.io/en/latest/sections/QueryOfTheMonthClub.html#november-2017\n",
    "\n",
    "source ~/aou_dsub.bash # This file was created via notebook 01_dsub_setup.ipynb.\n",
    "\n",
    "docker_image='tacantong/polygenicriskscores:v1'\n",
    "\n",
    "aou_dsub \\\n",
    "--image \"${docker_image}\" \\\n",
    "--disk-size 300 \\\n",
    "--min-ram 20 \\\n",
    "--min-cores 1 \\\n",
    "--timeout '1d' \\\n",
    "--logging \"${WORKSPACE_BUCKET}/data/logging\" \\\n",
    "--script \"aou_bigL0L1_continuous_CV.R\" \\\n",
    "--tasks \"binary_task_matrix.txt\""
   ]
  },
  {
   "cell_type": "code",
   "execution_count": null,
   "id": "7abae690",
   "metadata": {},
   "outputs": [],
   "source": []
  },
  {
   "cell_type": "markdown",
   "id": "8b428be1",
   "metadata": {},
   "source": [
    "# Compile Results (in R)"
   ]
  },
  {
   "cell_type": "code",
   "execution_count": null,
   "id": "e32ea03e",
   "metadata": {},
   "outputs": [],
   "source": [
    "for (trait in c('T2D', 'Breast', 'Prostate')) {\n",
    "    print(trait)\n",
    "    \n",
    "    beta = NULL\n",
    "    n_folds = 0\n",
    "    for (fold in 1:5) {\n",
    "        print(fold)\n",
    "        cross = readRDS(paste0(trait, '_CV/Results_Logistic/cross_fold', fold, '.RDS'))\n",
    "\n",
    "        best_par = which.min(unlist(lapply(cross, FUN=function(x) min(x$metrics, na.rm=T))))\n",
    "\n",
    "        beta_cv = data.matrix(cross[[best_par]]$beta)\n",
    "        beta_cv[is.na(beta_cv)] = 0\n",
    "        beta_cv[abs(beta_cv) < 1e-20] = 0\n",
    "        if (cross[[best_par]]$nb_interact[which.min(cross[[best_par]]$metrics)] == sum(rowSums(abs(beta_cv[,2:6])>0) > 0)) {\n",
    "            rownames(beta_cv) = cross[[best_par]]$snp\n",
    "\n",
    "            cat(cross[[best_par]]$nb_active[which.min(cross[[best_par]]$metrics)], sum(beta_cv[,1] != 0), '\\n'); \n",
    "            cat(cross[[best_par]]$nb_interact[which.min(cross[[best_par]]$metrics)], sum(rowSums(abs(beta_cv[,2:6])>0) > 0), '\\n'); \n",
    "\n",
    "            if (is.null(beta)) {\n",
    "                beta = beta_cv\n",
    "            } else {\n",
    "                beta = beta + beta_cv\n",
    "            }\n",
    "            n_folds = n_folds + 1\n",
    "        } else {\n",
    "            cat('SKIP ', fold, '\\n')\n",
    "        }\n",
    "\n",
    "    }\n",
    "    beta = beta / n_folds\n",
    "\n",
    "    ix_keep = which(rowSums(abs(beta) > 0) > 0)\n",
    "\n",
    "    beta = beta[ix_keep,]\n",
    "    print(dim(beta))\n",
    "    print(colSums(beta != 0))\n",
    "    saveRDS(beta, paste0(trait, '/', trait, '_beta_cv_logistic.RDS'))\n",
    "}"
   ]
  },
  {
   "cell_type": "code",
   "execution_count": null,
   "id": "02e2d2d2",
   "metadata": {},
   "outputs": [],
   "source": [
    "for (trait in c('T2D', 'Breast', 'Prostate')) {\n",
    "    print(trait)\n",
    "    \n",
    "    beta = NULL\n",
    "    n_folds = 0\n",
    "    for (fold in 1:5) {\n",
    "        print(fold)\n",
    "        cross = readRDS(paste0(trait, '_CV/Results_Linear/cross_fold', fold, '.RDS'))\n",
    "\n",
    "        best_par = which.min(unlist(lapply(cross, FUN=function(x) min(x$metrics, na.rm=T))))\n",
    "\n",
    "        beta_cv = data.matrix(cross[[best_par]]$beta)\n",
    "        beta_cv[is.na(beta_cv)] = 0\n",
    "        beta_cv[abs(beta_cv) < 1e-20] = 0\n",
    "        if (cross[[best_par]]$nb_interact[which.min(cross[[best_par]]$metrics)] == sum(rowSums(abs(beta_cv[,2:6])>0) > 0)) {\n",
    "            rownames(beta_cv) = cross[[best_par]]$snp\n",
    "\n",
    "            cat(cross[[best_par]]$nb_active[which.min(cross[[best_par]]$metrics)], sum(beta_cv[,1] != 0), '\\n'); \n",
    "            cat(cross[[best_par]]$nb_interact[which.min(cross[[best_par]]$metrics)], sum(rowSums(abs(beta_cv[,2:6])>0) > 0), '\\n'); \n",
    "\n",
    "            if (is.null(beta)) {\n",
    "                beta = beta_cv\n",
    "            } else {\n",
    "                beta = beta + beta_cv\n",
    "            }\n",
    "            n_folds = n_folds + 1\n",
    "        } else {\n",
    "            cat('SKIP ', fold, '\\n')\n",
    "        }\n",
    "\n",
    "    }\n",
    "    beta = beta / n_folds\n",
    "\n",
    "    ix_keep = which(rowSums(abs(beta) > 0) > 0)\n",
    "\n",
    "    beta = beta[ix_keep,]\n",
    "    print(dim(beta))\n",
    "    print(colSums(beta != 0))\n",
    "    saveRDS(beta, paste0(trait, '/', trait, '_beta_cv_linear.RDS'))\n",
    "}"
   ]
  }
 ],
 "metadata": {
  "kernelspec": {
   "display_name": "Python 3 (ipykernel)",
   "language": "python",
   "name": "python3"
  },
  "language_info": {
   "codemirror_mode": {
    "name": "ipython",
    "version": 3
   },
   "file_extension": ".py",
   "mimetype": "text/x-python",
   "name": "python",
   "nbconvert_exporter": "python",
   "pygments_lexer": "ipython3",
   "version": "3.9.7"
  }
 },
 "nbformat": 4,
 "nbformat_minor": 5
}
